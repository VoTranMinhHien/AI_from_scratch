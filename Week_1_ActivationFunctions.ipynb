{
 "cells": [
  {
   "metadata": {
    "ExecuteTime": {
     "end_time": "2025-03-06T16:12:09.569075Z",
     "start_time": "2025-03-06T16:12:09.545367Z"
    }
   },
   "cell_type": "code",
   "source": [
    "import math\n",
    "import matplotlib.pyplot as plt\n",
    "import numpy as np"
   ],
   "id": "ec1e683f5a551c21",
   "outputs": [],
   "execution_count": 7
  },
  {
   "metadata": {},
   "cell_type": "markdown",
   "source": "# In Class Activities",
   "id": "552a70c234a6658d"
  },
  {
   "metadata": {},
   "cell_type": "markdown",
   "source": "## Day 1 - Python basics",
   "id": "e850a9a55b10192b"
  },
  {
   "metadata": {},
   "cell_type": "code",
   "outputs": [],
   "execution_count": null,
   "source": "",
   "id": "564902e5f0d60045"
  },
  {
   "metadata": {},
   "cell_type": "markdown",
   "source": "## Day 2 - Math & Data Type basics",
   "id": "a0420df540b2fb58"
  },
  {
   "metadata": {},
   "cell_type": "markdown",
   "source": "### Stack overflow & underflow",
   "id": "177969191b65dbf"
  },
  {
   "metadata": {
    "ExecuteTime": {
     "end_time": "2025-03-05T15:27:40.967387Z",
     "start_time": "2025-03-05T15:27:40.962670Z"
    }
   },
   "cell_type": "code",
   "source": [
    "#print(1e-1000) #underflow\n",
    "print(1e1000) #overflow"
   ],
   "id": "d9dc00db8d756d8b",
   "outputs": [
    {
     "name": "stdout",
     "output_type": "stream",
     "text": [
      "inf\n"
     ]
    }
   ],
   "execution_count": 6
  },
  {
   "metadata": {},
   "cell_type": "markdown",
   "source": "## Percentage",
   "id": "f3f799fc7df13262"
  },
  {
   "metadata": {},
   "cell_type": "code",
   "outputs": [],
   "execution_count": null,
   "source": "",
   "id": "e467d16cf4c2f22d"
  },
  {
   "metadata": {},
   "cell_type": "markdown",
   "source": "# Activation Functions",
   "id": "b4394408471e9356"
  },
  {
   "metadata": {},
   "cell_type": "markdown",
   "source": "## 1. Sigmoid ",
   "id": "6e41b8de877ed275"
  },
  {
   "metadata": {
    "ExecuteTime": {
     "end_time": "2025-02-28T17:40:08.237238Z",
     "start_time": "2025-02-28T17:40:08.231309Z"
    }
   },
   "cell_type": "code",
   "source": [
    "# Sigmoid function\n",
    "def sigmoid(x):\n",
    "    \"\"\"\n",
    "    return a sigmoid value given input x \n",
    "    :param x: float or int\n",
    "    :return: [0, 1] float\n",
    "    \"\"\"\n",
    "    return 1/(1+math.exp(-x))\n",
    "\n",
    "x_values = [-3, -2, -1, 0, 1, 2, 3]\n",
    "\n",
    "for x in x_values:\n",
    "    sigmoid_result = sigmoid(x)\n",
    "    print(sigmoid_result)"
   ],
   "id": "242d0a64d56d4ec0",
   "outputs": [
    {
     "name": "stdout",
     "output_type": "stream",
     "text": [
      "0.04742587317756678\n",
      "0.11920292202211755\n",
      "0.2689414213699951\n",
      "0.5\n",
      "0.7310585786300049\n",
      "0.8807970779778823\n",
      "0.9525741268224334\n"
     ]
    }
   ],
   "execution_count": 2
  },
  {
   "metadata": {},
   "cell_type": "markdown",
   "source": "## 2. Tangent",
   "id": "bda8466456639b10"
  },
  {
   "metadata": {
    "ExecuteTime": {
     "end_time": "2025-03-01T01:57:00.987454Z",
     "start_time": "2025-03-01T01:57:00.981656Z"
    }
   },
   "cell_type": "code",
   "source": [
    "# tanh function \n",
    "def tangent(x):\n",
    "    \"\"\"\n",
    "    return a tangent value given input x\n",
    "    :param x: float or int\n",
    "    :return: (-1,1) float\n",
    "    \"\"\"\n",
    "    \n",
    "    #return math.tan(x)\n",
    "    return (2/(1+math.exp(-2 * x)))- 1\n",
    "    \n",
    "x_values = [1, 5, -4, 3, -2]\n",
    "\n",
    "for x in x_values:\n",
    "    tangent_result = tangent(x)\n",
    "    print(tangent_result)"
   ],
   "id": "491a5564154d27ee",
   "outputs": [
    {
     "name": "stdout",
     "output_type": "stream",
     "text": [
      "0.7615941559557646\n",
      "0.9999092042625952\n",
      "-0.999329299739067\n",
      "0.9950547536867307\n",
      "-0.9640275800758169\n"
     ]
    }
   ],
   "execution_count": 5
  },
  {
   "metadata": {},
   "cell_type": "markdown",
   "source": "## 3. Softplus  ",
   "id": "47f6897acac4c1d7"
  },
  {
   "metadata": {
    "ExecuteTime": {
     "end_time": "2025-03-01T02:57:04.423265Z",
     "start_time": "2025-03-01T02:57:04.414033Z"
    }
   },
   "cell_type": "code",
   "source": [
    "def softplus(x):\n",
    "    \"\"\"\n",
    "    return a softplus value given input x\n",
    "    :param x: float or int\n",
    "    :return: (0,+∞) float\n",
    "    \"\"\"\n",
    "    return math.log(1+math.exp(x))\n",
    "\n",
    "x_values = [1, 5, -4, 3, -2]\n",
    "softplus_result = [softplus(x) for x in x_values]\n",
    "print(softplus_result)"
   ],
   "id": "9566223a2afcaa66",
   "outputs": [
    {
     "name": "stdout",
     "output_type": "stream",
     "text": [
      "[1.3132616875182228, 5.006715348489118, 0.01814992791780978, 3.048587351573742, 0.1269280110429726]\n"
     ]
    }
   ],
   "execution_count": 12
  },
  {
   "metadata": {},
   "cell_type": "markdown",
   "source": "## 4. ReLU (Rectified Linear Unit)",
   "id": "83296861aadf8ba3"
  },
  {
   "metadata": {
    "ExecuteTime": {
     "end_time": "2025-03-01T05:13:22.401372Z",
     "start_time": "2025-03-01T05:13:22.396713Z"
    }
   },
   "cell_type": "code",
   "source": [
    "def relu(x):\n",
    "    \"\"\"\n",
    "    return a relu value given input x\n",
    "    :param x: float or int\n",
    "    :return: 0 if x < 0, 1 if x > 0 (int or float)\n",
    "    \"\"\"\n",
    "    return np.maximum(x, 0)\n",
    "\n",
    "x_values = [0.1, 5, -4, 3, -2]\n",
    "relu_result = [relu(x) for x in x_values]\n",
    "print(relu_result)"
   ],
   "id": "28bfaa77e44a54e6",
   "outputs": [
    {
     "name": "stdout",
     "output_type": "stream",
     "text": [
      "[0.1, 5, 0, 3, 0]\n"
     ]
    }
   ],
   "execution_count": 30
  },
  {
   "metadata": {},
   "cell_type": "markdown",
   "source": "## 5. LeakyRelu ",
   "id": "15cb0b15b42b1ee8"
  },
  {
   "metadata": {
    "ExecuteTime": {
     "end_time": "2025-03-01T05:14:31.456673Z",
     "start_time": "2025-03-01T05:14:31.448624Z"
    }
   },
   "cell_type": "code",
   "source": [
    "def leaky_relu(x):\n",
    "    \"\"\"\n",
    "    return a leaky relu value given input x\n",
    "    :param x: int or float\n",
    "    :return: 0.01 * x if x =< 0 | x if x > 0 (int or float)\n",
    "    \"\"\"\n",
    "    if x <= 0:\n",
    "        return 0.01 * x\n",
    "    else:\n",
    "        return x\n",
    "\n",
    "x_values = [1, 5, -4, 3, -2]\n",
    "leaky_relu_result = [leaky_relu(x) for x in x_values]\n",
    "print(leaky_relu_result)"
   ],
   "id": "3c8575cc570861ef",
   "outputs": [
    {
     "name": "stdout",
     "output_type": "stream",
     "text": [
      "[1, 5, -0.04, 3, -0.02]\n"
     ]
    }
   ],
   "execution_count": 31
  },
  {
   "metadata": {},
   "cell_type": "markdown",
   "source": "## 6. ELU (Exponential Linear Unit)",
   "id": "b541960de2c2a63d"
  },
  {
   "metadata": {
    "ExecuteTime": {
     "end_time": "2025-03-01T10:30:34.391267Z",
     "start_time": "2025-03-01T10:30:34.386735Z"
    }
   },
   "cell_type": "code",
   "source": [
    "def elu(x, alpha = 0.1):\n",
    "    \"\"\"\n",
    "    return a elu value given input x\n",
    "    :param x: int/float\n",
    "    :return: y = α(e^x - 1) if x <= 0 | y = x if x > 0 (int or float)\n",
    "    \"\"\"\n",
    "    if x <= 0:\n",
    "        return alpha * (np.exp(x) - 1) \n",
    "    else:\n",
    "        return x\n",
    "\n",
    "x_values = [1, 5, -4, 3, -2]\n",
    "elu_result = [elu(x) for x in x_values]\n",
    "print(elu_result)"
   ],
   "id": "5deae33d636c6c3b",
   "outputs": [
    {
     "name": "stdout",
     "output_type": "stream",
     "text": [
      "[1, 5, -0.09816843611112658, 3, -0.08646647167633874]\n"
     ]
    }
   ],
   "execution_count": 33
  },
  {
   "metadata": {},
   "cell_type": "markdown",
   "source": "## 7. PReLU (Parametric Rectified Linear Unit)",
   "id": "6ab15589affbcbfd"
  },
  {
   "metadata": {
    "ExecuteTime": {
     "end_time": "2025-03-01T10:56:54.755640Z",
     "start_time": "2025-03-01T10:56:54.746911Z"
    }
   },
   "cell_type": "code",
   "source": [
    "def prelu(x, alpha = 0.1):\n",
    "    \"\"\"\n",
    "    return a prelu value given input x\n",
    "    :param x: int/float\n",
    "    :return: y = α.x if x <= 0 | y = x if x > 0 (int or float)\n",
    "    \"\"\"\n",
    "    return np.where(x <= 0, alpha * x, x).item()\n",
    "\n",
    "x_values = [1, 5, -4, 3, -2]\n",
    "prelu_result = [prelu(x) for x in x_values]\n",
    "print(prelu_result)"
   ],
   "id": "b06d3c4f98f8cfb7",
   "outputs": [
    {
     "name": "stdout",
     "output_type": "stream",
     "text": [
      "[1.0, 5.0, -0.4, 3.0, -0.2]\n"
     ]
    }
   ],
   "execution_count": 35
  },
  {
   "metadata": {},
   "cell_type": "markdown",
   "source": "## 8. Swish",
   "id": "43ea425b924560e4"
  },
  {
   "metadata": {
    "ExecuteTime": {
     "end_time": "2025-03-01T12:33:53.852679Z",
     "start_time": "2025-03-01T12:33:53.837746Z"
    }
   },
   "cell_type": "code",
   "source": [
    "def swish(x, ß = 1.0):\n",
    "    \"\"\"\n",
    "    return a swish value given input x\n",
    "    :param x: int/float\n",
    "    :param ß: 1.0 or generate while training\n",
    "    :return: (x / (1 + np.exp(-ß * x))) float\n",
    "    \"\"\"\n",
    "    \n",
    "    return (x/(1 + np.exp(-ß * x)))\n",
    "\n",
    "x_values = [1, 5, -4, 3, -2]\n",
    "swish_result = [swish(x) for x in x_values]\n",
    "print(swish_result)"
   ],
   "id": "763773b7035823ad",
   "outputs": [
    {
     "name": "stdout",
     "output_type": "stream",
     "text": [
      "[0.7310585786300049, 4.966535745378576, -0.07194483984836623, 2.8577223804672998, -0.2384058440442351]\n"
     ]
    }
   ],
   "execution_count": 36
  },
  {
   "metadata": {},
   "cell_type": "markdown",
   "source": "## Plot function sigmoid và tangent",
   "id": "65197301d22fed37"
  },
  {
   "metadata": {
    "ExecuteTime": {
     "end_time": "2025-03-01T02:36:41.880400Z",
     "start_time": "2025-03-01T02:36:41.741790Z"
    }
   },
   "cell_type": "code",
   "source": [
    "# Sigmoid function and its derivative\n",
    "def sigmoid(x):\n",
    "    return 1 / (1 + math.exp(-x))\n",
    "\n",
    "def sigmoid_derivative(x):\n",
    "    sig = sigmoid(x)\n",
    "    return sig * (1 - sig)\n",
    "\n",
    "# Tanh function and its derivative\n",
    "def tangent(x):\n",
    "    return math.tanh(x)\n",
    "\n",
    "def tanh_derivative(x):\n",
    "    return 1 - math.tanh(x)**2\n",
    "\n",
    "# Generate input values\n",
    "x_values = np.linspace(-5, 5, 100)\n",
    "\n",
    "# Compute function outputs\n",
    "sigmoid_values = [sigmoid(x) for x in x_values]\n",
    "tanh_values = [tangent(x) for x in x_values]\n",
    "\n",
    "# Compute derivatives\n",
    "sigmoid_derivatives = [sigmoid_derivative(x) for x in x_values]\n",
    "tanh_derivatives = [tanh_derivative(x) for x in x_values]\n",
    "\n",
    "# Plot functions\n",
    "plt.figure(figsize=(8, 6))\n",
    "\n",
    "plt.plot(x_values, sigmoid_values, label=\"Sigmoid\", color=\"blue\")\n",
    "plt.plot(x_values, tanh_values, label=\"Tanh\", color=\"red\")\n",
    "\n",
    "# Plot derivatives\n",
    "plt.plot(x_values, sigmoid_derivatives, label=\"Sigmoid Derivative\", color=\"cyan\", linestyle=\"dashed\")\n",
    "plt.plot(x_values, tanh_derivatives, label=\"Tanh Derivative\", color=\"orange\", linestyle=\"dashed\")\n",
    "\n",
    "# Formatting\n",
    "plt.axhline(0, color='black', linestyle='--', linewidth=1)\n",
    "plt.xlabel(\"Input (x)\")\n",
    "plt.ylabel(\"Output\")\n",
    "plt.title(\"Sigmoid vs Tanh (With Derivatives)\")\n",
    "plt.legend()\n",
    "plt.show()\n",
    "\n"
   ],
   "id": "4aadcedc46304258",
   "outputs": [
    {
     "data": {
      "text/plain": [
       "<Figure size 800x600 with 1 Axes>"
      ],
      "image/png": "[encoded data removed]"
     },
     "metadata": {},
     "output_type": "display_data"
    }
   ],
   "execution_count": 11
  }
 ],
 "metadata": {
  "kernelspec": {
   "display_name": "Python 3",
   "language": "python",
   "name": "python3"
  },
  "language_info": {
   "codemirror_mode": {
    "name": "ipython",
    "version": 2
   },
   "file_extension": ".py",
   "mimetype": "text/x-python",
   "name": "python",
   "nbconvert_exporter": "python",
   "pygments_lexer": "ipython2",
   "version": "2.7.6"
  }
 },
 "nbformat": 4,
 "nbformat_minor": 5
}
