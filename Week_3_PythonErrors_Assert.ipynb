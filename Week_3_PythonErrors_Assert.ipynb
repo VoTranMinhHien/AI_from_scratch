{
 "cells": [
  {
   "metadata": {},
   "cell_type": "markdown",
   "source": "# Warm Up exercise",
   "id": "78373f2d3f53865d"
  },
  {
   "metadata": {},
   "cell_type": "markdown",
   "source": "## Python Errors",
   "id": "2c28fd506d2789de"
  },
  {
   "metadata": {
    "ExecuteTime": {
     "end_time": "2025-03-10T18:01:43.114601Z",
     "start_time": "2025-03-10T18:01:41.627039Z"
    }
   },
   "cell_type": "code",
   "source": [
    "# # 1. Zero Division Error\n",
    "# a = int(input('Enter a number: '))\n",
    "# b = int(input('Enter another number: '))\n",
    "# def division (a, b):\n",
    "#     if b != 0:\n",
    "#         c = a/b\n",
    "#     else:\n",
    "#         print('Division by zero')\n",
    "# \n",
    "# print(division(a,b))\n",
    "\n",
    "# # 2. Indentation Error\n",
    "# a = 5\n",
    "#     b = 6\n",
    "# \n",
    "# print(a+b)\n",
    "\n",
    "# # 7. Index Error\n",
    "# l = ['a', 'b', 'c', 'd', 'e', 'f', 'g', 'h', 'i', 'j']\n",
    "# print(l[11])\n",
    "\n",
    "# # 8. Value Error\n",
    "# import math \n",
    "# \n",
    "# number = -4\n",
    "# print(math.sqrt(number))\n",
    "\n",
    "# 9. Recursion Error\n",
    "\n",
    "# # Proper recursion problem: Hanoi Tower\n",
    "\n",
    "\"\"\"\n",
    "Recursive problem mindset\n",
    "1) Show f(1) works (base case - also the ender of the recursive function)\n",
    "2) Assume f(n-1) works\n",
    "3) show f(n) works using f(n-1)\n",
    "like a domino set: 1st domino, ...., n-1th domino, nth domino\n",
    "\n",
    "1) print (start -> end) if n = 1\n",
    "2) other = 6 - (start + end) -> hanoi(n-1, start, other) -> print(start -> end)\n",
    "3) \n",
    "\"\"\"\n",
    "\n",
    "def hanoi(n, start, end):\n",
    "    if n == 1: #base case - nếu ko có sẽ gây ra recursion problem/stack overflow\n",
    "        print(f'{start} -> {end}')\n",
    "        return\n",
    "    else:\n",
    "        other = 6 - (start + end)\n",
    "        hanoi(n-1, start, other)\n",
    "        print(f'{start} -> {end}')\n",
    "        hanoi(n-1, other, end)\n",
    "\n",
    "hanoi(3, 1, 3)\n",
    "    \n",
    "    \n"
   ],
   "id": "ae3177fd45931b2c",
   "outputs": [
    {
     "ename": "RecursionError",
     "evalue": "maximum recursion depth exceeded",
     "output_type": "error",
     "traceback": [
      "\u001B[0;31m---------------------------------------------------------------------------\u001B[0m",
      "\u001B[0;31mRecursionError\u001B[0m                            Traceback (most recent call last)",
      "Cell \u001B[0;32mIn[27], line 54\u001B[0m\n\u001B[1;32m     51\u001B[0m         \u001B[38;5;28mprint\u001B[39m(\u001B[38;5;124mf\u001B[39m\u001B[38;5;124m'\u001B[39m\u001B[38;5;132;01m{\u001B[39;00mstart\u001B[38;5;132;01m}\u001B[39;00m\u001B[38;5;124m -> \u001B[39m\u001B[38;5;132;01m{\u001B[39;00mend\u001B[38;5;132;01m}\u001B[39;00m\u001B[38;5;124m'\u001B[39m)\n\u001B[1;32m     52\u001B[0m         hanoi(n\u001B[38;5;241m-\u001B[39m\u001B[38;5;241m1\u001B[39m, other, end)\n\u001B[0;32m---> 54\u001B[0m hanoi(\u001B[38;5;241m3\u001B[39m, \u001B[38;5;241m1\u001B[39m, \u001B[38;5;241m3\u001B[39m)\n",
      "Cell \u001B[0;32mIn[27], line 50\u001B[0m, in \u001B[0;36mhanoi\u001B[0;34m(n, start, end)\u001B[0m\n\u001B[1;32m     44\u001B[0m \u001B[38;5;28;01mdef\u001B[39;00m\u001B[38;5;250m \u001B[39m\u001B[38;5;21mhanoi\u001B[39m(n, start, end):\n\u001B[1;32m     45\u001B[0m     \u001B[38;5;66;03m# if n == 1: #base case - nếu ko có sẽ gây ra recursion problem/stack overflow\u001B[39;00m\n\u001B[1;32m     46\u001B[0m     \u001B[38;5;66;03m#     print(f'{start} -> {end}')\u001B[39;00m\n\u001B[1;32m     47\u001B[0m     \u001B[38;5;66;03m#     return\u001B[39;00m\n\u001B[1;32m     48\u001B[0m     \u001B[38;5;66;03m# else:\u001B[39;00m\n\u001B[1;32m     49\u001B[0m         other \u001B[38;5;241m=\u001B[39m \u001B[38;5;241m6\u001B[39m \u001B[38;5;241m-\u001B[39m (start \u001B[38;5;241m+\u001B[39m end)\n\u001B[0;32m---> 50\u001B[0m         hanoi(n\u001B[38;5;241m-\u001B[39m\u001B[38;5;241m1\u001B[39m, start, other)\n\u001B[1;32m     51\u001B[0m         \u001B[38;5;28mprint\u001B[39m(\u001B[38;5;124mf\u001B[39m\u001B[38;5;124m'\u001B[39m\u001B[38;5;132;01m{\u001B[39;00mstart\u001B[38;5;132;01m}\u001B[39;00m\u001B[38;5;124m -> \u001B[39m\u001B[38;5;132;01m{\u001B[39;00mend\u001B[38;5;132;01m}\u001B[39;00m\u001B[38;5;124m'\u001B[39m)\n\u001B[1;32m     52\u001B[0m         hanoi(n\u001B[38;5;241m-\u001B[39m\u001B[38;5;241m1\u001B[39m, other, end)\n",
      "Cell \u001B[0;32mIn[27], line 50\u001B[0m, in \u001B[0;36mhanoi\u001B[0;34m(n, start, end)\u001B[0m\n\u001B[1;32m     44\u001B[0m \u001B[38;5;28;01mdef\u001B[39;00m\u001B[38;5;250m \u001B[39m\u001B[38;5;21mhanoi\u001B[39m(n, start, end):\n\u001B[1;32m     45\u001B[0m     \u001B[38;5;66;03m# if n == 1: #base case - nếu ko có sẽ gây ra recursion problem/stack overflow\u001B[39;00m\n\u001B[1;32m     46\u001B[0m     \u001B[38;5;66;03m#     print(f'{start} -> {end}')\u001B[39;00m\n\u001B[1;32m     47\u001B[0m     \u001B[38;5;66;03m#     return\u001B[39;00m\n\u001B[1;32m     48\u001B[0m     \u001B[38;5;66;03m# else:\u001B[39;00m\n\u001B[1;32m     49\u001B[0m         other \u001B[38;5;241m=\u001B[39m \u001B[38;5;241m6\u001B[39m \u001B[38;5;241m-\u001B[39m (start \u001B[38;5;241m+\u001B[39m end)\n\u001B[0;32m---> 50\u001B[0m         hanoi(n\u001B[38;5;241m-\u001B[39m\u001B[38;5;241m1\u001B[39m, start, other)\n\u001B[1;32m     51\u001B[0m         \u001B[38;5;28mprint\u001B[39m(\u001B[38;5;124mf\u001B[39m\u001B[38;5;124m'\u001B[39m\u001B[38;5;132;01m{\u001B[39;00mstart\u001B[38;5;132;01m}\u001B[39;00m\u001B[38;5;124m -> \u001B[39m\u001B[38;5;132;01m{\u001B[39;00mend\u001B[38;5;132;01m}\u001B[39;00m\u001B[38;5;124m'\u001B[39m)\n\u001B[1;32m     52\u001B[0m         hanoi(n\u001B[38;5;241m-\u001B[39m\u001B[38;5;241m1\u001B[39m, other, end)\n",
      "    \u001B[0;31m[... skipping similar frames: hanoi at line 50 (2970 times)]\u001B[0m\n",
      "Cell \u001B[0;32mIn[27], line 50\u001B[0m, in \u001B[0;36mhanoi\u001B[0;34m(n, start, end)\u001B[0m\n\u001B[1;32m     44\u001B[0m \u001B[38;5;28;01mdef\u001B[39;00m\u001B[38;5;250m \u001B[39m\u001B[38;5;21mhanoi\u001B[39m(n, start, end):\n\u001B[1;32m     45\u001B[0m     \u001B[38;5;66;03m# if n == 1: #base case - nếu ko có sẽ gây ra recursion problem/stack overflow\u001B[39;00m\n\u001B[1;32m     46\u001B[0m     \u001B[38;5;66;03m#     print(f'{start} -> {end}')\u001B[39;00m\n\u001B[1;32m     47\u001B[0m     \u001B[38;5;66;03m#     return\u001B[39;00m\n\u001B[1;32m     48\u001B[0m     \u001B[38;5;66;03m# else:\u001B[39;00m\n\u001B[1;32m     49\u001B[0m         other \u001B[38;5;241m=\u001B[39m \u001B[38;5;241m6\u001B[39m \u001B[38;5;241m-\u001B[39m (start \u001B[38;5;241m+\u001B[39m end)\n\u001B[0;32m---> 50\u001B[0m         hanoi(n\u001B[38;5;241m-\u001B[39m\u001B[38;5;241m1\u001B[39m, start, other)\n\u001B[1;32m     51\u001B[0m         \u001B[38;5;28mprint\u001B[39m(\u001B[38;5;124mf\u001B[39m\u001B[38;5;124m'\u001B[39m\u001B[38;5;132;01m{\u001B[39;00mstart\u001B[38;5;132;01m}\u001B[39;00m\u001B[38;5;124m -> \u001B[39m\u001B[38;5;132;01m{\u001B[39;00mend\u001B[38;5;132;01m}\u001B[39;00m\u001B[38;5;124m'\u001B[39m)\n\u001B[1;32m     52\u001B[0m         hanoi(n\u001B[38;5;241m-\u001B[39m\u001B[38;5;241m1\u001B[39m, other, end)\n",
      "\u001B[0;31mRecursionError\u001B[0m: maximum recursion depth exceeded"
     ]
    }
   ],
   "execution_count": 27
  },
  {
   "metadata": {},
   "cell_type": "markdown",
   "source": "## Assert",
   "id": "de4b85acfb33b87b"
  },
  {
   "metadata": {
    "ExecuteTime": {
     "end_time": "2025-03-15T05:55:11.177414Z",
     "start_time": "2025-03-15T05:55:09.900520Z"
    }
   },
   "cell_type": "code",
   "source": [
    "# Example\n",
    "import math\n",
    "\n",
    "x = int(input('Enter x: '))\n",
    "\n",
    "def square_root(x):\n",
    "    assert x > 0, 'x must be positive'\n",
    "    return math.sqrt(x)\n",
    "\n",
    "print(square_root(x))\n",
    "\n",
    "# x = 2 --> Output: 1.4142135623730951\n",
    "# x = -2 --> Output: AssertionError: x must be positive"
   ],
   "id": "initial_id",
   "outputs": [
    {
     "ename": "AssertionError",
     "evalue": "x must be positive",
     "output_type": "error",
     "traceback": [
      "\u001B[0;31m---------------------------------------------------------------------------\u001B[0m",
      "\u001B[0;31mAssertionError\u001B[0m                            Traceback (most recent call last)",
      "Cell \u001B[0;32mIn[35], line 10\u001B[0m\n\u001B[1;32m      7\u001B[0m     \u001B[38;5;28;01massert\u001B[39;00m x \u001B[38;5;241m>\u001B[39m \u001B[38;5;241m0\u001B[39m, \u001B[38;5;124m'\u001B[39m\u001B[38;5;124mx must be positive\u001B[39m\u001B[38;5;124m'\u001B[39m\n\u001B[1;32m      8\u001B[0m     \u001B[38;5;28;01mreturn\u001B[39;00m math\u001B[38;5;241m.\u001B[39msqrt(x)\n\u001B[0;32m---> 10\u001B[0m \u001B[38;5;28mprint\u001B[39m(square_root(x))\n",
      "Cell \u001B[0;32mIn[35], line 7\u001B[0m, in \u001B[0;36msquare_root\u001B[0;34m(x)\u001B[0m\n\u001B[1;32m      6\u001B[0m \u001B[38;5;28;01mdef\u001B[39;00m\u001B[38;5;250m \u001B[39m\u001B[38;5;21msquare_root\u001B[39m(x):\n\u001B[0;32m----> 7\u001B[0m     \u001B[38;5;28;01massert\u001B[39;00m x \u001B[38;5;241m>\u001B[39m \u001B[38;5;241m0\u001B[39m, \u001B[38;5;124m'\u001B[39m\u001B[38;5;124mx must be positive\u001B[39m\u001B[38;5;124m'\u001B[39m\n\u001B[1;32m      8\u001B[0m     \u001B[38;5;28;01mreturn\u001B[39;00m math\u001B[38;5;241m.\u001B[39msqrt(x)\n",
      "\u001B[0;31mAssertionError\u001B[0m: x must be positive"
     ]
    }
   ],
   "execution_count": 35
  },
  {
   "metadata": {},
   "cell_type": "markdown",
   "source": "## String Knowledge",
   "id": "3453b636a50b0b22"
  },
  {
   "metadata": {
    "ExecuteTime": {
     "end_time": "2025-03-16T13:24:39.877290Z",
     "start_time": "2025-03-16T13:24:39.872490Z"
    }
   },
   "cell_type": "code",
   "source": [
    "list1 = [1, 2, 3, 4, 5, 6, 7, 8, 9, 10]\n",
    "\n",
    "# # in ko dùng for loop\n",
    "# print(list1[:5])\n",
    "\n",
    "# # in 5 phần tử đầu tiên ko chia hết cho 2\n",
    "# \n",
    "# for i in range(0, len(list1)):\n",
    "#     if list1[i] % 2 != 0:\n",
    "#         print(list1[i])\n",
    "#         \n",
    "# list2 = [list1[i] for i in range(0, len(list1)) if list1[i] % 2 != 0]\n",
    "# \n",
    "# print(list2)\n",
    "# \n",
    "# print(list(list1[i] for i in range(0, len(list1)) if list1[i] % 2 != 0))\n",
    "\n",
    "# # in tổng các giá trị trong list\n",
    "# sum_val = 0 \n",
    "# \n",
    "# for i in list1:\n",
    "#     sum_val += i\n",
    "# \n",
    "# print(sum_val)\n",
    "    "
   ],
   "id": "2507aa56e7e8167e",
   "outputs": [
    {
     "name": "stdout",
     "output_type": "stream",
     "text": [
      "55\n"
     ]
    }
   ],
   "execution_count": 94
  },
  {
   "metadata": {
    "ExecuteTime": {
     "end_time": "2025-03-16T14:37:02.716444Z",
     "start_time": "2025-03-16T14:37:02.713504Z"
    }
   },
   "cell_type": "code",
   "source": [
    "# LIST CRUD\n",
    "\n",
    "lst_data = []\n",
    "\n",
    "# # đưa các số chẵn từ 1 đến 12 vào lst_data\n",
    "# \n",
    "# for i in range(1, 13):\n",
    "#     if i % 2 == 0:\n",
    "#         lst_data.append(i)\n",
    "#         \n",
    "# # xoá các số chia hết cho 3 trong lst_data\n",
    "# \n",
    "# for i in lst_data[:]: # change the list after every iteration so it wouldn't cause an Index Error\n",
    "#     if i % 3 == 0:\n",
    "#         lst_data.remove(i)\n",
    "# \n",
    "# # append 1-3 vào list & thêm vào list tại vị trí có index = 3 các số từ 6-8\n",
    "# \n",
    "# for i in range(1, 4):\n",
    "#     lst_data.append(i)\n",
    "# \n",
    "# for i in range(8, 5, -1): # start - stop - step\n",
    "#     lst_data.insert(3, i)\n",
    "#     \n",
    "# # nếu các số trong list chia hết cho 2 hoặc 5 --> biến thành 0\n",
    "# \n",
    "# for i in lst_data: # incorrect vì đang access giá trị của list thay vì index\n",
    "#     if lst_data[i] % 2 == 0 or lst_data[i] % 5 == 0: # sử dụng index\n",
    "#         lst_data[i] = 0\n",
    "# \n",
    "# \n",
    "# for i in range(0, len(lst_data)): # correct vì đang refer tới index thay vì giá trị trong list\n",
    "#     if lst_data[i] % 2 == 0 or lst_data[i] % 5 == 0:\n",
    "#         lst_data[i] = 0\n",
    "# \n",
    "#     \n",
    "# print(lst_data)\n",
    "\n"
   ],
   "id": "aea23b60eca0a7f7",
   "outputs": [
    {
     "name": "stdout",
     "output_type": "stream",
     "text": [
      "[0, 0, 0, 0, 7, 0, 0, 1, 0, 3]\n"
     ]
    }
   ],
   "execution_count": 136
  },
  {
   "metadata": {
    "ExecuteTime": {
     "end_time": "2025-03-19T14:20:43.046870Z",
     "start_time": "2025-03-19T14:20:43.016103Z"
    }
   },
   "cell_type": "code",
   "source": [
    "# Armstrong Numbers\n",
    "\n",
    "# Method 1: extract using operators\n",
    "arm_list = []\n",
    "\n",
    "list1 = [130, 270, 153, 407, 177, 371, 1000, 1634, 370, 18]\n",
    "\n",
    "for i in range(0, len(list1)):\n",
    "    m = len(str(list1[i]))\n",
    "    n = len(str(list1[i]))\n",
    "    sum = 0\n",
    "    while n > 0:\n",
    "        sum += (list1[i] % 10 ** n // 10 ** (n-1)) ** m  \n",
    "        n -= 1\n",
    "    if sum == list1[i]:\n",
    "        arm_list.append(list1[i])\n",
    "\n",
    "print(arm_list)\n",
    "        \n",
    "\n"
   ],
   "id": "b1c7a75885ddf61c",
   "outputs": [
    {
     "name": "stdout",
     "output_type": "stream",
     "text": [
      "[153, 407, 371, 1634, 370]\n"
     ]
    }
   ],
   "execution_count": 193
  },
  {
   "metadata": {
    "ExecuteTime": {
     "end_time": "2025-03-20T16:07:51.479751Z",
     "start_time": "2025-03-20T16:07:51.464521Z"
    }
   },
   "cell_type": "code",
   "source": [
    "# Candies Exercise\n",
    "\n",
    "tc1 = [2 , 3 , 5 , 1 , 3]\n",
    "extra1 = 3\n",
    "\n",
    "tc2 = [4 , 2 , 1 , 1 , 2]\n",
    "extra2 = 1\n",
    "\n",
    "tc3 = [12 , 1 , 12]\n",
    "extra3 = 10\n",
    "\n",
    "def highest_candies(testcase, extra):\n",
    "    result = []\n",
    "    for i in range(0, len(testcase)):\n",
    "        if testcase[i] + extra >= max(testcase):\n",
    "            result.append('true')\n",
    "        else:\n",
    "            result.append('false')\n",
    "    \n",
    "    return result\n",
    "\n",
    "print(highest_candies(tc1, extra1))\n",
    "print(highest_candies(tc2, extra2))\n",
    "print(highest_candies(tc3, extra3))"
   ],
   "id": "23f9574c66a9fbcc",
   "outputs": [
    {
     "name": "stdout",
     "output_type": "stream",
     "text": [
      "['true', 'true', 'true', 'false', 'true']\n",
      "['true', 'false', 'false', 'false', 'false']\n",
      "['true', 'false', 'true']\n"
     ]
    }
   ],
   "execution_count": 197
  },
  {
   "metadata": {
    "ExecuteTime": {
     "end_time": "2025-03-20T16:02:36.478582Z",
     "start_time": "2025-03-20T16:02:36.473461Z"
    }
   },
   "cell_type": "code",
   "source": [
    "# # testing space - armstrong\n",
    "# x = 1634\n",
    "# a = x % 10 ** 4 // 10 ** 3\n",
    "# b = x % 10 ** 3 // 10 ** 2\n",
    "# c = x % 10 ** 2 // 10 ** 1\n",
    "# d = x % 10 ** 1 // 10 ** 0\n",
    "# \n",
    "# y = a ** 3 + b ** 3 + c ** 3 + d ** 3\n",
    "# print(a, b, c, d)\n",
    "# print(y)\n",
    "# print(len(str(x)))\n",
    "\n",
    "#testing space - candies\n",
    "lst1 = [2, 3, 5, 1, 3]\n",
    "\n",
    "max"
   ],
   "id": "476c2ebab82f191a",
   "outputs": [
    {
     "data": {
      "text/plain": [
       "5"
      ]
     },
     "execution_count": 195,
     "metadata": {},
     "output_type": "execute_result"
    }
   ],
   "execution_count": 195
  },
  {
   "metadata": {},
   "cell_type": "markdown",
   "source": "## Warm Up Exercises",
   "id": "efa74c4938ef49fe"
  },
  {
   "metadata": {
    "ExecuteTime": {
     "end_time": "2025-03-15T08:22:01.811380Z",
     "start_time": "2025-03-15T08:22:01.791915Z"
    }
   },
   "cell_type": "code",
   "source": [
    "# # 1\n",
    "# numbers = [1 , 2 , 3]\n",
    "# print ( numbers [3])\n",
    "\n",
    "# # 2\n",
    "# def func():\n",
    "#     return 'Hello World!'\n",
    "# print(func(0))\n",
    "\n",
    "# # 3\n",
    "# for i in range(5):\n",
    "#     print(i)\n",
    "\n",
    "# # 4\n",
    "# print(10/0)\n",
    "\n",
    "# # 5\n",
    "# name = 'Alice'\n",
    "# age = 10\n",
    "# print(\"Name: \" + name + \", Age: \" + age)\n",
    "# # --> TypeError: can only concatenate str (not \"int\") to str\n",
    "\n",
    "# # 6\n",
    "# x = 5\n",
    "# if x == \"5\":\n",
    "#     print(\"yes\")\n",
    "# else:\n",
    "#     print(\"no\")\n",
    "\n",
    "# # 7\n",
    "# print(hello)\n",
    "\n",
    "# # 8\n",
    "# a = 5\n",
    "# b = \"5\"\n",
    "# if a + b:\n",
    "#     print(\"hello\")\n",
    "\n",
    "# # 9 \n",
    "# def get_min(data):\n",
    "#     min_value = data[0]\n",
    "# \n",
    "#     for i in range(0, len(data)):\n",
    "#         if data[i] < min_value:\n",
    "#             min_value = data[i]\n",
    "# \n",
    "#     return min_value\n",
    "# \n",
    "# data1 = [1 , 5 , 2 , 91 , -10]\n",
    "# assert get_min ( data1 ) == -10\n",
    "# \n",
    "# data2 = [2 , 5 , -5 , 10 , 11]\n",
    "# print ( get_min ( data2 ) )\n",
    "\n",
    "# # 10\n",
    "# def get_max(data):\n",
    "#     max_val = data[0]\n",
    "# \n",
    "#     for i in range(1, len(data)):\n",
    "#         if data[i] >= max_val:\n",
    "#             max_val = data[i]\n",
    "# \n",
    "#     return max_val\n",
    "# \n",
    "# data1 = [1 , 5 , 2 , 91 , -10]\n",
    "# assert get_max ( data1 ) == 91\n",
    "# \n",
    "# data2 = [2 , 5 , -5 , 10 , 11]\n",
    "# print ( get_max ( data2 ) )    \n",
    "\n",
    "# # 11\n",
    "# def count(data, value):\n",
    "#     count = 0\n",
    "#     \n",
    "#     for i in range(0, len(data)):\n",
    "#         if data[i] == value:\n",
    "#             count += 1\n",
    "#     \n",
    "#     return count\n",
    "# \n",
    "# data1 = [1 , 5 , 2 , -10 , 5 , 10 , 5]\n",
    "# assert count ( data1 , 5) == 3\n",
    "# \n",
    "# data2 = [5 , 4 , 2 , 10 , 4 , 8 , 1 , 3]\n",
    "# print ( count ( data2 , 4) )\n",
    "\n",
    "# # 12\n",
    "# def get_sum(data):\n",
    "#     sum_value = 0\n",
    "#     \n",
    "#     for i in range(0, len(data)):\n",
    "#         sum_value += data[i]\n",
    "#     \n",
    "#     return sum_value\n",
    "# \n",
    "# data1 = [1 , 5 , 2 , 8 , -1]\n",
    "# assert get_sum ( data1 ) == 15\n",
    "# \n",
    "# data2 = [5 , 4 , 2 , 10 , 4]\n",
    "# print ( get_sum ( data2 ) )\n",
    "\n",
    "# # 13\n",
    "# def get_sum_even(data):\n",
    "#     sum_value = 0\n",
    "#     for i in data:\n",
    "#         if i % 2 == 0:\n",
    "#             sum_value += i\n",
    "#             \n",
    "#     return sum_value\n",
    "# \n",
    "# data1 = [1 , 5 , 2 , 4 , -10 , 5]\n",
    "# assert get_sum_even ( data1 ) == -4\n",
    "# \n",
    "# data2 = [5 , 4 , 2 , 10 , 3 , 8]\n",
    "# print ( get_sum_even ( data2 ) )\n",
    "\n",
    "# # 14\n",
    "# def get_mean(data):\n",
    "#     sum_value = 0\n",
    "#     \n",
    "#     for i in range(0, len(data)):\n",
    "#         sum_value += data[i]\n",
    "#         \n",
    "#     mean = round(sum_value/len(data), 2)\n",
    "#     \n",
    "#     return mean\n",
    "# \n",
    "# data1 = [1 , 5 , 2 , 7 , -3]\n",
    "# assert get_mean ( data1 ) == 2.4\n",
    "# \n",
    "# data2 = [2 , 5 , -5 , 10 , 11]\n",
    "# print ( get_mean ( data2 ) )\n",
    "\n",
    "# # 15\n",
    "# def contain(data, value):\n",
    "#     is_contain = False\n",
    "#     \n",
    "#     for i in range(0, len(data)):\n",
    "#         if data[i] == value:\n",
    "#             is_contain = True\n",
    "#     \n",
    "#     return is_contain\n",
    "# \n",
    "# # data1 = [1 , 5 , 2 , 91 , -10]\n",
    "# # assert contain ( data1 , 3) == True, 'not in'\n",
    "# \n",
    "# data2 = [2 , 5 , -5 , 10 , 11]\n",
    "# print ( contain ( data2 , 3) )\n",
    "\n"
   ],
   "id": "ba4bd3ca0e121b18",
   "outputs": [
    {
     "name": "stdout",
     "output_type": "stream",
     "text": [
      "0\n",
      "1\n",
      "2\n",
      "3\n",
      "4\n"
     ]
    }
   ],
   "execution_count": 73
  },
  {
   "metadata": {},
   "cell_type": "markdown",
   "source": "# In Class Knowledge",
   "id": "f8af7ace72c62861"
  }
 ],
 "metadata": {
  "kernelspec": {
   "display_name": "Python 3",
   "language": "python",
   "name": "python3"
  },
  "language_info": {
   "codemirror_mode": {
    "name": "ipython",
    "version": 2
   },
   "file_extension": ".py",
   "mimetype": "text/x-python",
   "name": "python",
   "nbconvert_exporter": "python",
   "pygments_lexer": "ipython2",
   "version": "2.7.6"
  }
 },
 "nbformat": 4,
 "nbformat_minor": 5
}
