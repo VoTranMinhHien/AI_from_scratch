{
 "cells": [
  {
   "metadata": {},
   "cell_type": "markdown",
   "source": "# Basic Concepts",
   "id": "e7cad0345051dac8"
  },
  {
   "metadata": {},
   "cell_type": "markdown",
   "source": "### Basic Probability ",
   "id": "fe971055aa3ff864"
  },
  {
   "metadata": {
    "jupyter": {
     "is_executing": true
    }
   },
   "cell_type": "code",
   "source": [
    "from random import random\n",
    "\n",
    "import numpy as np\n",
    "\n",
    "# a list with all outcomes having the same probability of happening\n",
    "possibilities = np.array([0, 1, 2, 3, 4, 5, 6, 7, 8, 9, 10])\n",
    "\n",
    "# sample size\n",
    "size = 5\n",
    "\n",
    "# random outcomes\n",
    "sample = np.random.choice(possibilities, size)\n",
    "\n",
    "print(sample)"
   ],
   "id": "initial_id",
   "outputs": [],
   "execution_count": null
  },
  {
   "metadata": {},
   "cell_type": "markdown",
   "source": "### Uniform Distribution",
   "id": "fc2defe0736e2294"
  },
  {
   "metadata": {
    "jupyter": {
     "is_executing": true
    }
   },
   "cell_type": "code",
   "source": [
    "# setting up range\n",
    "low = 0 # lower limit\n",
    "high = 100 # upper limit\n",
    "size = 5 # sample size\n",
    "\n",
    "sample = np.random.uniform(low, high, size)\n",
    "print(sample)"
   ],
   "id": "26bc95a331a1df9f",
   "outputs": [],
   "execution_count": null
  },
  {
   "metadata": {},
   "cell_type": "markdown",
   "source": "### Binomial and Probability of a coin toss",
   "id": "5e3971d40c224cc7"
  },
  {
   "metadata": {
    "ExecuteTime": {
     "end_time": "2025-03-24T16:08:28.496215Z",
     "start_time": "2025-03-24T16:08:27.879948Z"
    }
   },
   "cell_type": "code",
   "source": [
    "import random\n",
    "# Evidence to prove that the more we toss, the more likely it is to be close to 50%\n",
    "\n",
    "total_flips = 0\n",
    "total_heads = 0\n",
    "total_tails = 0\n",
    "\n",
    "for x in range(1000000):\n",
    "    flip = random.randint(0,1)\n",
    "    if flip == 0:\n",
    "        total_heads += 1\n",
    "    else:\n",
    "        total_tails += 1\n",
    "    total_flips += 1\n",
    "    \n",
    "print('total flips: {}'.format(total_flips))\n",
    "print('total heads: {}'.format(total_heads))\n",
    "print('total tails: {}'.format(total_tails))\n",
    "print('% of heads: {}'.format(total_heads / total_flips)) #with enough times, the P(S) ~ P(N) = 50%"
   ],
   "id": "4fd0741beb6ec555",
   "outputs": [
    {
     "name": "stdout",
     "output_type": "stream",
     "text": [
      "total flips: 1000000\n",
      "total heads: 500278\n",
      "total tails: 499722\n",
      "% of heads: 0.500278\n"
     ]
    }
   ],
   "execution_count": 5
  },
  {
   "metadata": {},
   "cell_type": "markdown",
   "source": "### Monte Carlo exercise for circle with r = 1, inside a square with s = 2",
   "id": "45402cef8b60de23"
  },
  {
   "metadata": {
    "ExecuteTime": {
     "end_time": "2025-03-24T16:26:05.169622Z",
     "start_time": "2025-03-24T16:26:04.659418Z"
    }
   },
   "cell_type": "code",
   "source": [
    "import random\n",
    "import math\n",
    "\n",
    "s = 2\n",
    "r = 1\n",
    "\n",
    "Ns = 1_000_000 # điểm rơi vào toàn bộ hình\n",
    "Nc = 0 # điểm rơi vào hình tròn\n",
    "\n",
    "for i in range(Ns):\n",
    "    x = random.random() * 2 - 1 # random.random() -> (0.0, 1.0); random.random() * 2 - 1 -> (-1.0, 1.0)\n",
    "    y = random.random() * 2 - 1 \n",
    "    \n",
    "    x2 = x ** 2\n",
    "    y2 = y ** 2\n",
    "    \n",
    "    if math.sqrt(x2 + y2) <= r:\n",
    "        Nc += 1\n",
    "    \n",
    "pi = (Nc * s**2)/(Ns * r**2)\n",
    "print(pi)"
   ],
   "id": "e2f348b9f3174178",
   "outputs": [
    {
     "name": "stdout",
     "output_type": "stream",
     "text": [
      "3.140528\n"
     ]
    }
   ],
   "execution_count": 164
  },
  {
   "metadata": {},
   "cell_type": "markdown",
   "source": "",
   "id": "754b848fbe703ebf"
  },
  {
   "metadata": {
    "ExecuteTime": {
     "end_time": "2025-03-24T16:22:23.969724Z",
     "start_time": "2025-03-24T16:22:23.966428Z"
    }
   },
   "cell_type": "code",
   "source": [
    "a = random.random()\n",
    "x = random.random() * 2 - 1\n",
    "print(a)\n",
    "print(x)"
   ],
   "id": "4c9bb5e7a4effd18",
   "outputs": [
    {
     "name": "stdout",
     "output_type": "stream",
     "text": [
      "0.33507687299059463\n",
      "-0.7207132271981502\n"
     ]
    }
   ],
   "execution_count": 163
  }
 ],
 "metadata": {
  "kernelspec": {
   "display_name": "Python 3",
   "language": "python",
   "name": "python3"
  },
  "language_info": {
   "codemirror_mode": {
    "name": "ipython",
    "version": 2
   },
   "file_extension": ".py",
   "mimetype": "text/x-python",
   "name": "python",
   "nbconvert_exporter": "python",
   "pygments_lexer": "ipython2",
   "version": "2.7.6"
  }
 },
 "nbformat": 4,
 "nbformat_minor": 5
}
