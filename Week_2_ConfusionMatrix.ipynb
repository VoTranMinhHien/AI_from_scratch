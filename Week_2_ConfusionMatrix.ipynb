{
 "cells": [
  {
   "cell_type": "code",
   "id": "initial_id",
   "metadata": {
    "collapsed": true,
    "ExecuteTime": {
     "end_time": "2025-03-03T13:21:22.355803Z",
     "start_time": "2025-03-03T13:21:21.823298Z"
    }
   },
   "source": [
    "# import pandas, numpy, matplotlib & math\n",
    "import pandas as pd\n",
    "import numpy as np\n",
    "import matplotlib\n",
    "import math"
   ],
   "outputs": [],
   "execution_count": 1
  },
  {
   "metadata": {},
   "cell_type": "markdown",
   "source": "# ",
   "id": "2cdfce131b858ba0"
  },
  {
   "metadata": {},
   "cell_type": "markdown",
   "source": "# Exercise",
   "id": "fa4ee62d96df7ffa"
  },
  {
   "metadata": {},
   "cell_type": "markdown",
   "source": "## question 5 - 8: data types",
   "id": "95adc16df7b88850"
  },
  {
   "metadata": {
    "ExecuteTime": {
     "end_time": "2025-03-03T16:04:50.494516Z",
     "start_time": "2025-03-03T16:04:50.491102Z"
    }
   },
   "cell_type": "code",
   "source": [
    "# q5\n",
    "tp = 'One'\n",
    "\n",
    "#isinstance(tp, int) #True/False\n",
    "\n",
    "if type(tp) != int:\n",
    "    print('tp must be an integer')"
   ],
   "id": "4459ecbc9aed78cf",
   "outputs": [
    {
     "name": "stdout",
     "output_type": "stream",
     "text": [
      "tp must be an integer\n"
     ]
    }
   ],
   "execution_count": 14
  },
  {
   "metadata": {},
   "cell_type": "markdown",
   "source": "## question 9: precision, recall, f1-score",
   "id": "69ea3fb5c0899542"
  },
  {
   "metadata": {
    "ExecuteTime": {
     "end_time": "2025-03-03T16:19:41.288537Z",
     "start_time": "2025-03-03T16:19:38.483553Z"
    }
   },
   "cell_type": "code",
   "source": [
    "# with pure operations\n",
    "\n",
    "# input\n",
    "tp = int(input(\"Enter the True Positive Number: \"))\n",
    "fp = int(input(\"Enter the False Positive Number: \"))\n",
    "fn = int(input(\"Enter the False Negative Number: \"))\n",
    "\n",
    "# calculation functions\n",
    "def precision(tp, fp):\n",
    "    \"\"\"\n",
    "    Calculates the precision score given a true positive rate and false positive instances\n",
    "    :param tp: true positive instances\n",
    "    :param fp: false positive instances\n",
    "    :return: precision score\n",
    "    \"\"\"\n",
    "    return tp / (tp + fp)\n",
    "\n",
    "def recall(tp, fn):\n",
    "    \"\"\"\n",
    "    Calculates the recall score given a true positive rate and false negative instances\n",
    "    :param tp: true positive instances\n",
    "    :param fn: false negative instances\n",
    "    :return: recall score\n",
    "    \"\"\"\n",
    "    return tp / (tp + fn)\n",
    "\n",
    "def f1_score(tp, fp, fn):\n",
    "    \"\"\"\n",
    "    Calculates the f1 score given a true positive, false positive and false negative rate\n",
    "    :param tp: true positive instances\n",
    "    :param fp: false positive instances\n",
    "    :param fn: false negative instances\n",
    "    :return: f1 score\n",
    "    \"\"\"\n",
    "    return 2 * ((recall(tp, fn) * precision(tp, fp))/(recall(tp, fn) + precision(tp, fp)))\n",
    "\n",
    "print(f'Precision = {precision(tp, fp)}')\n",
    "print(f'Recall = {recall(tp, fn)}')\n",
    "print(f'F1 Score = {f1_score(tp, fp, fn)}')"
   ],
   "id": "158a2e5146747b90",
   "outputs": [
    {
     "name": "stdout",
     "output_type": "stream",
     "text": [
      "Precision = 0.16666666666666666\n",
      "Recall = 0.09090909090909091\n",
      "F1 Score = 0.11764705882352942\n"
     ]
    }
   ],
   "execution_count": 21
  },
  {
   "metadata": {},
   "cell_type": "code",
   "outputs": [],
   "execution_count": null,
   "source": "# with package",
   "id": "663aa2d441bd9917"
  }
 ],
 "metadata": {
  "kernelspec": {
   "display_name": "Python 3",
   "language": "python",
   "name": "python3"
  },
  "language_info": {
   "codemirror_mode": {
    "name": "ipython",
    "version": 2
   },
   "file_extension": ".py",
   "mimetype": "text/x-python",
   "name": "python",
   "nbconvert_exporter": "python",
   "pygments_lexer": "ipython2",
   "version": "2.7.6"
  }
 },
 "nbformat": 4,
 "nbformat_minor": 5
}
